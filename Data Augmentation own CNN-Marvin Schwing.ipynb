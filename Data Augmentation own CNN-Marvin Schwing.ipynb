{
 "cells": [
  {
   "cell_type": "code",
   "execution_count": 1,
   "metadata": {},
   "outputs": [
    {
     "ename": "ModuleNotFoundError",
     "evalue": "No module named 'keras_tuner'",
     "output_type": "error",
     "traceback": [
      "\u001b[1;31m---------------------------------------------------------------------------\u001b[0m",
      "\u001b[1;31mModuleNotFoundError\u001b[0m                       Traceback (most recent call last)",
      "\u001b[1;32m<ipython-input-1-a1da231b3438>\u001b[0m in \u001b[0;36m<module>\u001b[1;34m\u001b[0m\n\u001b[0;32m     10\u001b[0m \u001b[1;32mfrom\u001b[0m \u001b[0mtensorflow\u001b[0m\u001b[1;33m.\u001b[0m\u001b[0mkeras\u001b[0m\u001b[1;33m.\u001b[0m\u001b[0mmodels\u001b[0m \u001b[1;32mimport\u001b[0m \u001b[0mSequential\u001b[0m\u001b[1;33m\u001b[0m\u001b[1;33m\u001b[0m\u001b[0m\n\u001b[0;32m     11\u001b[0m \u001b[1;32mfrom\u001b[0m \u001b[0mtensorflow\u001b[0m\u001b[1;33m.\u001b[0m\u001b[0mkeras\u001b[0m\u001b[1;33m.\u001b[0m\u001b[0mlayers\u001b[0m \u001b[1;32mimport\u001b[0m \u001b[0mDense\u001b[0m\u001b[1;33m,\u001b[0m \u001b[0mConv2D\u001b[0m\u001b[1;33m,\u001b[0m \u001b[0mFlatten\u001b[0m\u001b[1;33m,\u001b[0m \u001b[0mMaxPooling2D\u001b[0m\u001b[1;33m\u001b[0m\u001b[1;33m\u001b[0m\u001b[0m\n\u001b[1;32m---> 12\u001b[1;33m \u001b[1;32mimport\u001b[0m \u001b[0mkeras_tuner\u001b[0m \u001b[1;32mas\u001b[0m \u001b[0mkt\u001b[0m\u001b[1;33m\u001b[0m\u001b[1;33m\u001b[0m\u001b[0m\n\u001b[0m\u001b[0;32m     13\u001b[0m \u001b[1;32mfrom\u001b[0m \u001b[0mkeras_tuner\u001b[0m \u001b[1;32mimport\u001b[0m \u001b[0mRandomSearch\u001b[0m\u001b[1;33m\u001b[0m\u001b[1;33m\u001b[0m\u001b[0m\n\u001b[0;32m     14\u001b[0m \u001b[1;32mfrom\u001b[0m \u001b[0mkeras_tuner\u001b[0m \u001b[1;32mimport\u001b[0m \u001b[0mHyperband\u001b[0m\u001b[1;33m\u001b[0m\u001b[1;33m\u001b[0m\u001b[0m\n",
      "\u001b[1;31mModuleNotFoundError\u001b[0m: No module named 'keras_tuner'"
     ]
    }
   ],
   "source": [
    "import os\n",
    "import tensorflow as tf\n",
    "from tensorflow import keras\n",
    "from tensorflow.keras import layers\n",
    "from tensorflow.keras.preprocessing import image\n",
    "from tensorflow.keras.preprocessing.image import ImageDataGenerator\n",
    "import numpy as np\n",
    "import cv2\n",
    "import matplotlib.pyplot as plt\n",
    "from tensorflow.keras.models import Sequential\n",
    "from tensorflow.keras.layers import Dense, Conv2D, Flatten, MaxPooling2D\n",
    "import keras_tuner as kt\n",
    "from keras_tuner import RandomSearch\n",
    "from keras_tuner import Hyperband\n",
    "from matplotlib import pyplot\n",
    "from keras.callbacks import History \n",
    "import matplotlib.image as mpimg\n",
    "from PIL import Image"
   ]
  },
  {
   "cell_type": "code",
   "execution_count": 7,
   "metadata": {},
   "outputs": [],
   "source": [
    "#get the data and convert it into an numpy array \n",
    "#important: Structure of the folders!\n",
    "labels = ['Flooding', 'Regular_State']\n",
    "img_height_full = 100\n",
    "img_width_full = 200\n",
    "#batch_size = 16\n",
    "#data_dir = 'E:/Python Projekt 5_2 Extraktion/Training_Validation/'\n",
    "def get_data(data_dir):\n",
    "    data = [] \n",
    "    for label in labels: \n",
    "        path = os.path.join(data_dir, label)\n",
    "        class_num = np.zeros(2)\n",
    "        class_num[labels.index(label)] = 1\n",
    "        for img in os.listdir(path):\n",
    "            try:\n",
    "                img_arr = mpimg.imread(os.path.join(path, img)) \n",
    "                R, G, B = img_arr[:,:,0], img_arr[:,:,1], img_arr[:,:,2]\n",
    "                img_arr = 0.2989 * R + 0.5870 * G + 0.1140 * B #using a standard converting formula to get greyscale\n",
    "                resized_crop = img_arr[1300:1500, 300:700]\n",
    "                resized_arr = cv2.resize(resized_crop, (200,100))\n",
    "                data.append([resized_arr, class_num])\n",
    "            except Exception as e:\n",
    "                print(e) #if there is a picture which can't be loaded\n",
    "            \n",
    "    return np.array(data,dtype=object)\n"
   ]
  },
  {
   "cell_type": "code",
   "execution_count": 8,
   "metadata": {},
   "outputs": [],
   "source": [
    "#get the data in numpy-array with get_data\n",
    "#important: In folder Train are 2 folders with the labels 'Flooding' and 'Regular_State'\n",
    "train = get_data('E:/Python Projekt 5_2 Extraktion/Dataset_split/Train')\n",
    "#it takes time\n",
    "#change of directory necessary"
   ]
  },
  {
   "cell_type": "code",
   "execution_count": 9,
   "metadata": {},
   "outputs": [],
   "source": [
    "#important: In folder Validation are 2 folders with the labels 'Flooding' and 'Regular_State'\n",
    "val = get_data('E:/Python Projekt 5_2 Extraktion/Dataset_split/Validation')"
   ]
  },
  {
   "cell_type": "code",
   "execution_count": 10,
   "metadata": {},
   "outputs": [],
   "source": [
    "#get the right numpy structure\n",
    "x_train = []\n",
    "y_train = []\n",
    "x_val = []\n",
    "y_val = []\n",
    "\n",
    "for feature, label in train:\n",
    "    x_train.append(feature)\n",
    "    y_train.append(label)\n",
    "\n",
    "for feature, label in val:\n",
    "    x_val.append(feature)\n",
    "    y_val.append(label)\n",
    "\n",
    "# Normalize the data\n",
    "x_train = np.array(x_train)\n",
    "x_val = np.array(x_val)\n",
    "\n",
    "x_train = x_train.reshape(x_train.shape[0], x_train.shape[1], x_train.shape[2], 1)\n",
    "y_train = np.array(y_train)\n",
    "\n",
    "x_val = x_val.reshape(x_val.shape[0], x_val.shape[1], x_val.shape[2], 1)\n",
    "y_val = np.array(y_val)"
   ]
  },
  {
   "cell_type": "code",
   "execution_count": 11,
   "metadata": {},
   "outputs": [],
   "source": [
    "#define the image changes \n",
    "datagen = ImageDataGenerator(\n",
    "    rotation_range=10,\n",
    "    width_shift_range=0.1,\n",
    "    height_shift_range=0.1,\n",
    "    shear_range=0.1,\n",
    "    zoom_range=0.1,\n",
    "    #horizontal_flip=True,\n",
    "    fill_mode='nearest')"
   ]
  },
  {
   "cell_type": "code",
   "execution_count": 12,
   "metadata": {},
   "outputs": [],
   "source": [
    "datagen.fit(x_train)"
   ]
  },
  {
   "cell_type": "code",
   "execution_count": 13,
   "metadata": {},
   "outputs": [],
   "source": [
    "#create previous optimised model\n",
    "model = Sequential()\n",
    "model.add(Conv2D(24, kernel_size=(4, 4), activation=\"relu\",padding='same',input_shape = (100,200,1)))\n",
    "model.add(MaxPooling2D((2, 2),padding='same'))\n",
    "model.add(Conv2D(40, kernel_size=(4, 4), activation=\"relu\",padding='same',input_shape = (100,200,1)))\n",
    "model.add(Flatten())\n",
    "model.add(Dense(2, activation=\"softmax\"))"
   ]
  },
  {
   "cell_type": "code",
   "execution_count": 14,
   "metadata": {},
   "outputs": [],
   "source": [
    "model.compile(optimizer=keras.optimizers.Adam(lr=0.001), loss=\"categorical_crossentropy\", metrics=[\"accuracy\"])"
   ]
  },
  {
   "cell_type": "code",
   "execution_count": 15,
   "metadata": {},
   "outputs": [
    {
     "name": "stdout",
     "output_type": "stream",
     "text": [
      "Model: \"sequential_1\"\n",
      "_________________________________________________________________\n",
      "Layer (type)                 Output Shape              Param #   \n",
      "=================================================================\n",
      "conv2d_2 (Conv2D)            (None, 100, 200, 24)      408       \n",
      "_________________________________________________________________\n",
      "max_pooling2d_1 (MaxPooling2 (None, 50, 100, 24)       0         \n",
      "_________________________________________________________________\n",
      "conv2d_3 (Conv2D)            (None, 50, 100, 40)       15400     \n",
      "_________________________________________________________________\n",
      "flatten_1 (Flatten)          (None, 200000)            0         \n",
      "_________________________________________________________________\n",
      "dense_1 (Dense)              (None, 2)                 400002    \n",
      "=================================================================\n",
      "Total params: 415,810\n",
      "Trainable params: 415,810\n",
      "Non-trainable params: 0\n",
      "_________________________________________________________________\n"
     ]
    }
   ],
   "source": [
    "model.summary()"
   ]
  },
  {
   "cell_type": "code",
   "execution_count": 16,
   "metadata": {},
   "outputs": [
    {
     "name": "stdout",
     "output_type": "stream",
     "text": [
      "Epoch 1/50\n",
      "97/97 [==============================] - 19s 195ms/step - loss: 0.4574 - accuracy: 0.7738 - val_loss: 2.2929 - val_accuracy: 0.5257\n",
      "Epoch 2/50\n",
      "97/97 [==============================] - 19s 191ms/step - loss: 0.2072 - accuracy: 0.9260 - val_loss: 1.3120 - val_accuracy: 0.6402\n",
      "Epoch 3/50\n",
      "97/97 [==============================] - 18s 191ms/step - loss: 0.1531 - accuracy: 0.9470 - val_loss: 1.3656 - val_accuracy: 0.6528\n",
      "Epoch 4/50\n",
      "97/97 [==============================] - 19s 192ms/step - loss: 0.0854 - accuracy: 0.9712 - val_loss: 0.8843 - val_accuracy: 0.7333\n",
      "Epoch 5/50\n",
      "97/97 [==============================] - 18s 190ms/step - loss: 0.0781 - accuracy: 0.9732 - val_loss: 0.6965 - val_accuracy: 0.7759\n",
      "Epoch 6/50\n",
      "97/97 [==============================] - 18s 190ms/step - loss: 0.0934 - accuracy: 0.9709 - val_loss: 0.3327 - val_accuracy: 0.8923\n",
      "Epoch 7/50\n",
      "97/97 [==============================] - 18s 190ms/step - loss: 0.0512 - accuracy: 0.9787 - val_loss: 2.0632 - val_accuracy: 0.6149\n",
      "Epoch 8/50\n",
      "97/97 [==============================] - 19s 194ms/step - loss: 0.0630 - accuracy: 0.9780 - val_loss: 0.1502 - val_accuracy: 0.9515\n",
      "Epoch 9/50\n",
      "97/97 [==============================] - 19s 194ms/step - loss: 0.0584 - accuracy: 0.9800 - val_loss: 0.2027 - val_accuracy: 0.9505\n",
      "Epoch 10/50\n",
      "97/97 [==============================] - 19s 194ms/step - loss: 0.0303 - accuracy: 0.9893 - val_loss: 0.2509 - val_accuracy: 0.9370\n",
      "Epoch 11/50\n",
      "97/97 [==============================] - 19s 193ms/step - loss: 0.0443 - accuracy: 0.9855 - val_loss: 0.1655 - val_accuracy: 0.9564\n",
      "Epoch 12/50\n",
      "97/97 [==============================] - 18s 186ms/step - loss: 0.0376 - accuracy: 0.9890 - val_loss: 0.1552 - val_accuracy: 0.9622\n",
      "Epoch 13/50\n",
      "97/97 [==============================] - 18s 187ms/step - loss: 0.0395 - accuracy: 0.9874 - val_loss: 0.6051 - val_accuracy: 0.8632\n",
      "Epoch 14/50\n",
      "97/97 [==============================] - 18s 187ms/step - loss: 0.0486 - accuracy: 0.9835 - val_loss: 0.1456 - val_accuracy: 0.9622\n",
      "Epoch 15/50\n",
      "97/97 [==============================] - 18s 186ms/step - loss: 0.0362 - accuracy: 0.9887 - val_loss: 0.6312 - val_accuracy: 0.8691\n",
      "Epoch 16/50\n",
      "97/97 [==============================] - 18s 187ms/step - loss: 0.0210 - accuracy: 0.9922 - val_loss: 0.2444 - val_accuracy: 0.9476\n",
      "Epoch 17/50\n",
      "97/97 [==============================] - 18s 186ms/step - loss: 0.0222 - accuracy: 0.9929 - val_loss: 1.8391 - val_accuracy: 0.6838\n",
      "Epoch 18/50\n",
      "97/97 [==============================] - 18s 189ms/step - loss: 0.0686 - accuracy: 0.9793 - val_loss: 0.4679 - val_accuracy: 0.9001\n",
      "Epoch 19/50\n",
      "97/97 [==============================] - 18s 187ms/step - loss: 0.0382 - accuracy: 0.9871 - val_loss: 0.7575 - val_accuracy: 0.8720\n",
      "Epoch 20/50\n",
      "97/97 [==============================] - 18s 187ms/step - loss: 0.0535 - accuracy: 0.9835 - val_loss: 0.8072 - val_accuracy: 0.8438\n",
      "Epoch 21/50\n",
      "97/97 [==============================] - 18s 188ms/step - loss: 0.0256 - accuracy: 0.9939 - val_loss: 0.7529 - val_accuracy: 0.8807\n",
      "Epoch 22/50\n",
      "97/97 [==============================] - 18s 187ms/step - loss: 0.0303 - accuracy: 0.9903 - val_loss: 0.8185 - val_accuracy: 0.7992\n",
      "Epoch 23/50\n",
      "97/97 [==============================] - 18s 186ms/step - loss: 0.0472 - accuracy: 0.9848 - val_loss: 0.0943 - val_accuracy: 0.9728\n",
      "Epoch 24/50\n",
      "97/97 [==============================] - 18s 188ms/step - loss: 0.0333 - accuracy: 0.9884 - val_loss: 0.6195 - val_accuracy: 0.8613\n",
      "Epoch 25/50\n",
      "97/97 [==============================] - 18s 189ms/step - loss: 0.0278 - accuracy: 0.9903 - val_loss: 0.5730 - val_accuracy: 0.8661\n",
      "Epoch 26/50\n",
      "97/97 [==============================] - 18s 187ms/step - loss: 0.0211 - accuracy: 0.9916 - val_loss: 0.5553 - val_accuracy: 0.9156\n",
      "Epoch 27/50\n",
      "97/97 [==============================] - 18s 187ms/step - loss: 0.0204 - accuracy: 0.9935 - val_loss: 0.6745 - val_accuracy: 0.8778\n",
      "Epoch 28/50\n",
      "97/97 [==============================] - 18s 187ms/step - loss: 0.0223 - accuracy: 0.9916 - val_loss: 0.7966 - val_accuracy: 0.8574\n",
      "Epoch 29/50\n",
      "97/97 [==============================] - 18s 186ms/step - loss: 0.0310 - accuracy: 0.9916 - val_loss: 0.4409 - val_accuracy: 0.9059\n",
      "Epoch 30/50\n",
      "97/97 [==============================] - 18s 186ms/step - loss: 0.0481 - accuracy: 0.9825 - val_loss: 0.5914 - val_accuracy: 0.8778\n",
      "Epoch 31/50\n",
      "97/97 [==============================] - 18s 188ms/step - loss: 0.0408 - accuracy: 0.9877 - val_loss: 0.2852 - val_accuracy: 0.9418\n",
      "Epoch 32/50\n",
      "97/97 [==============================] - 18s 186ms/step - loss: 0.0326 - accuracy: 0.9884 - val_loss: 0.8402 - val_accuracy: 0.8594\n",
      "Epoch 33/50\n",
      "97/97 [==============================] - 18s 186ms/step - loss: 0.0308 - accuracy: 0.9929 - val_loss: 0.3686 - val_accuracy: 0.9408\n",
      "Epoch 34/50\n",
      "97/97 [==============================] - 18s 188ms/step - loss: 0.0103 - accuracy: 0.9971 - val_loss: 0.3781 - val_accuracy: 0.9370\n",
      "Epoch 35/50\n",
      "97/97 [==============================] - 18s 187ms/step - loss: 0.0317 - accuracy: 0.9871 - val_loss: 0.4028 - val_accuracy: 0.9311\n",
      "Epoch 36/50\n",
      "97/97 [==============================] - 18s 187ms/step - loss: 0.0179 - accuracy: 0.9945 - val_loss: 0.4889 - val_accuracy: 0.9146\n",
      "Epoch 37/50\n",
      "97/97 [==============================] - 18s 188ms/step - loss: 0.0134 - accuracy: 0.9958 - val_loss: 0.9712 - val_accuracy: 0.8390\n",
      "Epoch 38/50\n",
      "97/97 [==============================] - 18s 186ms/step - loss: 0.0143 - accuracy: 0.9939 - val_loss: 0.8412 - val_accuracy: 0.8904\n",
      "Epoch 39/50\n",
      "97/97 [==============================] - 18s 186ms/step - loss: 0.0216 - accuracy: 0.9922 - val_loss: 0.4333 - val_accuracy: 0.9331\n",
      "Epoch 40/50\n",
      "97/97 [==============================] - 18s 186ms/step - loss: 0.0252 - accuracy: 0.9884 - val_loss: 0.7049 - val_accuracy: 0.8914\n",
      "Epoch 41/50\n",
      "97/97 [==============================] - 18s 187ms/step - loss: 0.0292 - accuracy: 0.9929 - val_loss: 2.8121 - val_accuracy: 0.6159\n",
      "Epoch 42/50\n",
      "97/97 [==============================] - 18s 186ms/step - loss: 0.0286 - accuracy: 0.9916 - val_loss: 0.6017 - val_accuracy: 0.9098\n",
      "Epoch 43/50\n",
      "97/97 [==============================] - 18s 186ms/step - loss: 0.0219 - accuracy: 0.9919 - val_loss: 1.1727 - val_accuracy: 0.8458\n",
      "Epoch 44/50\n",
      "97/97 [==============================] - 18s 187ms/step - loss: 0.0069 - accuracy: 0.9977 - val_loss: 0.5012 - val_accuracy: 0.9282\n",
      "Epoch 45/50\n",
      "97/97 [==============================] - 18s 186ms/step - loss: 0.0193 - accuracy: 0.9942 - val_loss: 0.9072 - val_accuracy: 0.8390\n",
      "Epoch 46/50\n",
      "97/97 [==============================] - 18s 185ms/step - loss: 0.0157 - accuracy: 0.9945 - val_loss: 1.4679 - val_accuracy: 0.7682\n",
      "Epoch 47/50\n",
      "97/97 [==============================] - 18s 187ms/step - loss: 0.0420 - accuracy: 0.9864 - val_loss: 0.5861 - val_accuracy: 0.8933\n",
      "Epoch 48/50\n",
      "97/97 [==============================] - 18s 187ms/step - loss: 0.0122 - accuracy: 0.9952 - val_loss: 0.6847 - val_accuracy: 0.8797\n",
      "Epoch 49/50\n",
      "97/97 [==============================] - 18s 187ms/step - loss: 0.0152 - accuracy: 0.9945 - val_loss: 0.7566 - val_accuracy: 0.8817\n",
      "Epoch 50/50\n",
      "97/97 [==============================] - 18s 190ms/step - loss: 0.0080 - accuracy: 0.9981 - val_loss: 0.5395 - val_accuracy: 0.9224\n"
     ]
    }
   ],
   "source": [
    "history = History()\n",
    "epochs = 50\n",
    "model_1 = model.fit(datagen.flow(x_train, y_train),\n",
    "         validation_data= (x_val, y_val),\n",
    "         epochs=epochs,batch_size = 16,\n",
    "         callbacks=[history])"
   ]
  },
  {
   "cell_type": "code",
   "execution_count": 17,
   "metadata": {},
   "outputs": [],
   "source": [
    "train_loss = model_1.history['loss']\n",
    "val_loss   = model_1.history['val_loss']\n"
   ]
  },
  {
   "cell_type": "code",
   "execution_count": 18,
   "metadata": {},
   "outputs": [
    {
     "data": {
      "text/plain": [
       "<matplotlib.legend.Legend at 0x1ea155e63d0>"
      ]
     },
     "execution_count": 18,
     "metadata": {},
     "output_type": "execute_result"
    },
    {
     "data": {
      "image/png": "[encoded data removed]",
      "text/plain": [
       "<Figure size 432x288 with 1 Axes>"
      ]
     },
     "metadata": {
      "needs_background": "light"
     },
     "output_type": "display_data"
    }
   ],
   "source": [
    "plt.figure()\n",
    "plt.plot(range(1,51), train_loss, label = 'train loss')\n",
    "plt.plot(range(1,51), val_loss, label = 'validation loss')\n",
    "plt.xlabel('epoch [-]')\n",
    "plt.ylabel('validation loss/train loss [-]')\n",
    "plt.legend()"
   ]
  },
  {
   "cell_type": "code",
   "execution_count": 20,
   "metadata": {},
   "outputs": [
    {
     "data": {
      "image/png": "[encoded data removed]",
      "text/plain": [
       "<Figure size 432x288 with 1 Axes>"
      ]
     },
     "metadata": {
      "needs_background": "light"
     },
     "output_type": "display_data"
    }
   ],
   "source": [
    "# Plot training & validation accuracy values\n",
    "plt.plot(range(1,51),model_1.history['accuracy'],'x')\n",
    "plt.plot(range(1,51),model_1.history['val_accuracy'],'x')\n",
    "plt.ylabel('Accuracy [-]')\n",
    "plt.xlabel('epoch [-]')\n",
    "plt.legend(['Train', 'Validation', 'train loss','val loss'], loc='upper left')\n",
    "plt.show()"
   ]
  },
  {
   "cell_type": "code",
   "execution_count": 24,
   "metadata": {},
   "outputs": [],
   "source": [
    "def build_model(hp):\n",
    "    model_opt = Sequential()\n",
    "    model_opt.add(Conv2D(24, kernel_size=(4, 4), activation=\"relu\",padding='same',input_shape = (100,200,1)))\n",
    "    model_opt.add(MaxPooling2D((2, 2),padding='same'))\n",
    "    model_opt.add(Conv2D(40, kernel_size=(4, 4), activation=\"relu\",padding='same',input_shape = (100,200,1)))\n",
    "    model_opt.add(Flatten())\n",
    "    model_opt.add(Dense(2, activation=\"softmax\"))\n",
    "    \n",
    "    model_opt.compile(\n",
    "    optimizer=keras.optimizers.Adam(learning_rate = 0.001),\n",
    "    loss=\"categorical_crossentropy\",\n",
    "    metrics=[\"accuracy\"],)\n",
    "    return model_opt"
   ]
  },
  {
   "cell_type": "code",
   "execution_count": 25,
   "metadata": {},
   "outputs": [
    {
     "name": "stdout",
     "output_type": "stream",
     "text": [
      "Trial 1 Complete [00h 32m 59s]\n",
      "val_accuracy: 0.9864209592342377\n",
      "\n",
      "Best val_accuracy So Far: 0.9864209592342377\n",
      "Total elapsed time: 00h 32m 59s\n",
      "INFO:tensorflow:Oracle triggered exit\n"
     ]
    }
   ],
   "source": [
    "tuner = RandomSearch(\n",
    "    build_model,\n",
    "    objective=\"val_accuracy\",\n",
    "    max_trials=100,\n",
    "    executions_per_trial=2,\n",
    "    overwrite=True,\n",
    "    directory='E:/',\n",
    "    project_name='CNN_layer_learning_rate_data_augmentation',\n",
    ")\n",
    "tuner.search_space_summary()\n",
    "tuner.search(x_train, y_train, epochs=50, validation_data=(x_val, y_val),batch_size = 16)"
   ]
  },
  {
   "cell_type": "code",
   "execution_count": 26,
   "metadata": {},
   "outputs": [],
   "source": [
    "#get the test data in an numpy-array\n",
    "test = get_data('E:/Python Projekt 5_2 Extraktion/Dataset_split/Test')\n",
    "x_test = []\n",
    "y_test = []\n",
    "\n",
    "for feature, label in test:\n",
    "    x_test.append(feature)\n",
    "    y_test.append(label)\n",
    "    \n",
    "x_test = np.array(x_test)\n",
    "x_test = x_test.reshape(x_test.shape[0], x_test.shape[1], x_test.shape[2], 1)\n",
    "y_test = np.array(y_test)"
   ]
  },
  {
   "cell_type": "code",
   "execution_count": 27,
   "metadata": {},
   "outputs": [
    {
     "name": "stdout",
     "output_type": "stream",
     "text": [
      "33/33 [==============================] - 1s 38ms/step - loss: 0.0706 - accuracy: 0.9748\n"
     ]
    },
    {
     "data": {
      "text/plain": [
       "[0.07058823108673096, 0.9748305678367615]"
      ]
     },
     "execution_count": 27,
     "metadata": {},
     "output_type": "execute_result"
    }
   ],
   "source": [
    "best_model = tuner.get_best_models()[0]\n",
    "best_model.evaluate(x_test,y_test)"
   ]
  },
  {
   "cell_type": "code",
   "execution_count": 28,
   "metadata": {},
   "outputs": [
    {
     "name": "stdout",
     "output_type": "stream",
     "text": [
      "There are 534 true positive, 26 false positive, 0 false negativ and 473 true negativ\n",
      "The calculations for the recall and the precision are:\n",
      "recall=1.0\n",
      "precision=0.9535714285714286\n"
     ]
    }
   ],
   "source": [
    "#get the predictions and calculate the recall and precision\n",
    "predictions = best_model.predict(x_test)\n",
    "y_test[:10]\n",
    "tp = 0\n",
    "fp = 0\n",
    "fn = 0\n",
    "tn = 0\n",
    "for pred, label in zip(predictions,y_test):\n",
    "    if pred[0] > 0.5 and label[0] == 1:\n",
    "        tp +=1\n",
    "    if pred[0] > 0.5 and label[0] == 0:\n",
    "        fp +=1\n",
    "    if pred[1] > 0.5 and label[0] == 1:\n",
    "        fn +=1\n",
    "    if pred[1] > 0.5 and label[0] == 0:\n",
    "        tn +=1\n",
    "\n",
    "print(f'There are {tp} true positive, {fp} false positive, {fn} false negativ and {tn} true negativ')\n",
    "print('The calculations for the recall and the precision are:')\n",
    "print('recall={}'.format(tp/(tp+fn)))\n",
    "print('precision={}'.format(tp/(tp+fp)))"
   ]
  },
  {
   "cell_type": "code",
   "execution_count": null,
   "metadata": {},
   "outputs": [],
   "source": []
  }
 ],
 "metadata": {
  "kernelspec": {
   "display_name": "Python 3",
   "language": "python",
   "name": "python3"
  },
  "language_info": {
   "codemirror_mode": {
    "name": "ipython",
    "version": 3
   },
   "file_extension": ".py",
   "mimetype": "text/x-python",
   "name": "python",
   "nbconvert_exporter": "python",
   "pygments_lexer": "ipython3",
   "version": "3.8.3"
  }
 },
 "nbformat": 4,
 "nbformat_minor": 5
}
