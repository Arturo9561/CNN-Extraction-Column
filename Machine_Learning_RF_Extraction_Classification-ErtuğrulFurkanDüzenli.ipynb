{
 "cells": [
  {
   "cell_type": "markdown",
   "metadata": {
    "graffitiCellId": "id_ka7xieb"
   },
   "source": [
    "# Random Forest with Gabor and Sobel Filters - Extraction Classification of     Flooding and Regular State"
   ]
  },
  {
   "cell_type": "markdown",
   "metadata": {
    "graffitiCellId": "id_z2o2780"
   },
   "source": [
    "##### In this notebook the implementation of random forest model for the classification on extraction column images to their respective flooding or regular states have been done. "
   ]
  },
  {
   "cell_type": "code",
   "execution_count": null,
   "metadata": {
    "graffitiCellId": "id_vvlqsly"
   },
   "outputs": [],
   "source": [
    "import numpy as np \n",
    "import matplotlib.pyplot as plt\n",
    "import glob\n",
    "import cv2\n",
    "import os\n",
    "import seaborn as sns\n",
    "import pandas as pd\n",
    "from skimage.filters import sobel"
   ]
  },
  {
   "cell_type": "code",
   "execution_count": 2,
   "metadata": {
    "graffitiCellId": "id_ppkovgu"
   },
   "outputs": [
    {
     "name": "stdout",
     "output_type": "stream",
     "text": [
      "['Flooding', 'Regular_State']\n"
     ]
    }
   ],
   "source": [
    "print(os.listdir(\"C:/Users/training/\"))"
   ]
  },
  {
   "cell_type": "markdown",
   "metadata": {
    "graffitiCellId": "id_ldrlzh8"
   },
   "source": [
    "#### Click here for more information"
   ]
  },
  {
   "cell_type": "markdown",
   "metadata": {
    "graffitiCellId": "id_kky27t0"
   },
   "source": [
    "## 1. Preprocessing images and converting them into numpy arrays for Training&Testing"
   ]
  },
  {
   "cell_type": "code",
   "execution_count": null,
   "metadata": {
    "graffitiCellId": "id_du2fals"
   },
   "outputs": [],
   "source": [
    "#Capture images and labels into arrays.\n",
    "#Start by creating empty lists.\n",
    "train_images = []\n",
    "train_labels = [] \n",
    "for directory_path in glob.glob(\"C:/Users/training/*\"):\n",
    "    label = directory_path.split(\"\\\\\")[-1]\n",
    "    print(label)\n",
    "    for img_path in glob.glob(os.path.join(directory_path, \"*.png\")):\n",
    "        print(img_path)\n",
    "        img = cv2.imread(img_path, cv2.IMREAD_GRAYSCALE) #Reading grayscale images\n",
    "        img = cv2.resize(img, (64, 64))#Resize images\n",
    "        train_images.append(img)\n",
    "        train_labels.append(label)"
   ]
  },
  {
   "cell_type": "code",
   "execution_count": null,
   "metadata": {
    "graffitiCellId": "id_smtktsu"
   },
   "outputs": [],
   "source": [
    "train_images = np.array(train_images)\n",
    "train_labels = np.array(train_labels)"
   ]
  },
  {
   "cell_type": "code",
   "execution_count": null,
   "metadata": {
    "graffitiCellId": "id_4hepvm4"
   },
   "outputs": [],
   "source": [
    "#Do exactly the same for test images\n",
    "# test\n",
    "test_images = []\n",
    "test_labels = [] \n",
    "for directory_path in glob.glob(\"C:/Users/testing/*\"):\n",
    "    column_label = directory_path.split(\"\\\\\")[-1]\n",
    "    for img_path in glob.glob(os.path.join(directory_path, \"*.png\")):\n",
    "        print(img_path)\n",
    "        img = cv2.imread(img_path, cv2.IMREAD_GRAYSCALE)\n",
    "        img = cv2.resize(img, (64,64))\n",
    "        test_images.append(img)\n",
    "        test_labels.append(column_label)"
   ]
  },
  {
   "cell_type": "code",
   "execution_count": 6,
   "metadata": {
    "graffitiCellId": "id_pm3244k"
   },
   "outputs": [],
   "source": [
    "test_images = np.array(test_images)\n",
    "test_labels = np.array(test_labels)"
   ]
  },
  {
   "cell_type": "code",
   "execution_count": 7,
   "metadata": {
    "graffitiCellId": "id_kmhaju5"
   },
   "outputs": [],
   "source": [
    "#Encode labels from text (folder names) to integers.\n",
    "from sklearn import preprocessing\n",
    "le = preprocessing.LabelEncoder()\n",
    "le.fit(test_labels)\n",
    "test_labels_encoded = le.transform(test_labels)\n",
    "le.fit(train_labels)\n",
    "train_labels_encoded = le.transform(train_labels)\n",
    "\n",
    "#Split data into test and train datasets (already split but assigning to meaningful convention)\n",
    "#If you only have one dataset then split here\n",
    "x_train, y_train, x_test, y_test = train_images, train_labels_encoded, test_images, test_labels_encoded\n",
    "\n",
    "# Normalize pixel values to between 0 and 1\n",
    "x_train, x_test = x_train / 255.0, x_test / 255.0"
   ]
  },
  {
   "cell_type": "markdown",
   "metadata": {
    "graffitiCellId": "id_jxbl9fo"
   },
   "source": [
    "## 2. Function for Feature Extraction from the given Dataset"
   ]
  },
  {
   "cell_type": "code",
   "execution_count": null,
   "metadata": {
    "graffitiCellId": "id_2mkig23"
   },
   "outputs": [],
   "source": [
    "#FEATURE EXTRACTOR function\n",
    "# input shape is (n, x, y, c) - number of images, x, y, and channels\n",
    "def feature_extractor(dataset):\n",
    "    x_train = dataset\n",
    "    image_dataset = pd.DataFrame()\n",
    "    for image in range(x_train.shape[0]):  #iterate through each file \n",
    "        #print(image)\n",
    "        \n",
    "        df = pd.DataFrame()  #Temporary data frame to capture information for each loop.\n",
    "        #Reset dataframe to blank after each loop.\n",
    "        \n",
    "        input_img = x_train[image, :,:]\n",
    "        img = input_img\n",
    "            #START ADDING DATA TO THE DATAFRAME\n",
    "    #Add feature extractors, e.g. edge detection, smoothing, etc. \n",
    "            \n",
    "         # FEATURE 1 - Pixel values\n",
    "         \n",
    "        #Add pixel values to the data frame\n",
    "        pixel_values = img.reshape(-1)\n",
    "        df['Pixel_Value'] = pixel_values   #Pixel value itself as a feature\n",
    "        #df['Image_Name'] = image   #Capture image name as we read multiple images\n",
    "        \n",
    "        # FEATURE 2 - Bunch of Gabor filter responses\n",
    "        \n",
    "                #Generate Gabor features\n",
    "        num = 1  #To count numbers up in order to give Gabor features a lable in the data frame\n",
    "        kernels = []\n",
    "        for theta in range(2):   #Define number of thetas\n",
    "            theta = theta / 4. * np.pi\n",
    "            sigma = 1  #Sigma with 1\n",
    "            lamda = np.pi/4\n",
    "            gamma = 0.5\n",
    "            gabor_label = 'Gabor' + str(num)  #Label Gabor columns as Gabor1, Gabor2, etc.\n",
    "\n",
    "            ksize=9\n",
    "            kernel = cv2.getGaborKernel((ksize, ksize), sigma, theta, lamda, gamma, 0, ktype=cv2.CV_32F)    \n",
    "            kernels.append(kernel)\n",
    "            #Now filter the image and add values to a new column \n",
    "            fimg = cv2.filter2D(img, cv2.CV_8UC3, kernel)\n",
    "            filtered_img = fimg.reshape(-1)\n",
    "            df[gabor_label] = filtered_img  #Labels columns as Gabor1, Gabor2, etc.\n",
    "            #print(gabor_label, ': theta=', theta, ': sigma=', sigma, ': lamda=', lamda, ': gamma=', gamma)\n",
    "            num += 1  #Increment for gabor column label\n",
    "                \n",
    "         \n",
    "            # FEATURE 3 Sobel\n",
    "            edge_sobel = sobel(img)\n",
    "            edge_sobel1 = edge_sobel.reshape(-1)\n",
    "            df['Sobel'] = edge_sobel1\n",
    "       \n",
    "        #Add more filters as needed\n",
    "        \n",
    "        #Append features from current image to the dataset\n",
    "        image_dataset = image_dataset.append(df)\n",
    "        \n",
    "    return image_dataset"
   ]
  },
  {
   "cell_type": "markdown",
   "metadata": {
    "graffitiCellId": "id_2hnlyp9"
   },
   "source": [
    "## 3. Definition of Random Forest Classifier and GridSearchCV for the n_estimator Parameter Selection "
   ]
  },
  {
   "cell_type": "raw",
   "metadata": {
    "graffitiCellId": "id_9007gl9"
   },
   "source": [
    "#Extract features from training images\n",
    "image_features = feature_extractor(x_train)\n",
    "\n",
    "#Reshape to a vector for Random Forest / SVM training\n",
    "n_features = image_features.shape[1]\n",
    "image_features = np.expand_dims(image_features, axis=0)\n",
    "X_for_RF = np.reshape(image_features, (x_train.shape[0], -1))  #Reshape to #images, features\n",
    "\n",
    "from sklearn.model_selection import \n",
    "\n",
    "# Create the parameter grid for n_estimator values\n",
    "param_grid = {\n",
    "    'n_estimators': [10, 30, 50, 60, 90]\n",
    "}\n",
    "\n",
    "#Define the classifier\n",
    "from sklearn.ensemble import RandomForestClassifier\n",
    "RF_model = RandomForestClassifier(random_state =42)\n",
    "\n",
    "grid_search = GridSearchCV(estimator = RF_model, param_grid = param_grid, \n",
    "                          cv = 3, n_jobs = -1, verbose = 2)\n",
    "\n",
    "# Fit the grid search to the data\n",
    "grid_search.fit(X_for_RF,y_train)\n",
    "\n",
    "\n"
   ]
  },
  {
   "cell_type": "code",
   "execution_count": null,
   "metadata": {
    "graffitiCellId": "id_jlg9r09"
   },
   "outputs": [],
   "source": [
    "grid_search.best_params_"
   ]
  },
  {
   "cell_type": "markdown",
   "metadata": {
    "graffitiCellId": "id_t0g33nn"
   },
   "source": [
    "## 4. Fitting Model Parameters and Prediction of Model with the Test Dataset "
   ]
  },
  {
   "cell_type": "code",
   "execution_count": null,
   "metadata": {
    "graffitiCellId": "id_rqydi15"
   },
   "outputs": [],
   "source": [
    "RF_model = RandomForestClassifier(n_estimators= 50 , random_state =42)\n",
    "\n",
    "# Fit the model on training data\n",
    "RF_model.fit(X_for_RF, y_train) #For sklearn no one hot encoding\n",
    "\n",
    "#Predict on Test data\n",
    "#Extract features from test data and reshape, just like training data\n",
    "test_features = feature_extractor(x_test)\n",
    "test_features = np.expand_dims(test_features, axis=0)\n",
    "test_for_RF = np.reshape(test_features, (x_test.shape[0], -1))\n",
    "\n",
    "#Predict on test\n",
    "test_prediction = RF_model.predict(test_for_RF)\n",
    "#Inverse le transform to get original label back. \n",
    "test_prediction = le.inverse_transform(test_prediction)"
   ]
  },
  {
   "cell_type": "markdown",
   "metadata": {
    "graffitiCellId": "id_dlvc53u"
   },
   "source": [
    "## 5. Model Analysis via Confusion Matrix / Precision, Recall"
   ]
  },
  {
   "cell_type": "code",
   "execution_count": 12,
   "metadata": {
    "graffitiCellId": "id_grpn87r"
   },
   "outputs": [
    {
     "name": "stdout",
     "output_type": "stream",
     "text": [
      "Accuracy =  0.993514915693904\n"
     ]
    }
   ],
   "source": [
    "#Print overall accuracy\n",
    "from sklearn import metrics\n",
    "print (\"Accuracy = \", metrics.accuracy_score(test_labels, test_prediction))"
   ]
  },
  {
   "cell_type": "code",
   "execution_count": 32,
   "metadata": {
    "graffitiCellId": "id_mcz5ypi"
   },
   "outputs": [
    {
     "name": "stdout",
     "output_type": "stream",
     "text": [
      "               precision    recall  f1-score   support\n",
      "\n",
      "     Flooding       0.99      1.00      0.99       801\n",
      "Regular_State       1.00      0.99      0.99       741\n",
      "\n",
      "     accuracy                           0.99      1542\n",
      "    macro avg       0.99      0.99      0.99      1542\n",
      " weighted avg       0.99      0.99      0.99      1542\n",
      "\n"
     ]
    },
    {
     "data": {
      "image/png": "[encoded data removed]",
      "text/plain": [
       "<Figure size 432x432 with 2 Axes>"
      ]
     },
     "metadata": {},
     "output_type": "display_data"
    }
   ],
   "source": [
    "#Print confusion matrix\n",
    "target_names = ['Flooding', 'Regular_State']\n",
    "from sklearn.metrics import confusion_matrix, classification_report\n",
    "cm = confusion_matrix(test_labels, test_prediction)\n",
    "fig, ax = plt.subplots(figsize=(6,6))         # Sample figsize in inches\n",
    "sns.set(font_scale=1.6)\n",
    "sns.heatmap(cm, annot=True, ax=ax)\n",
    "ax.set_title('Confusion Matrix', fontsize=16)\n",
    "ax.set_xticklabels(ax.get_xticklabels(), rotation=45, ha=\"right\")\n",
    "ax.set_ylabel('True Label', fontsize=12)\n",
    "ax.set_xlabel('Predicted Label', fontsize=12)\n",
    "print(classification_report(test_labels, test_prediction, target_names=target_names))"
   ]
  },
  {
   "cell_type": "markdown",
   "metadata": {
    "graffitiCellId": "id_m3pu0j4"
   },
   "source": [
    "## 6. Evaluation of the Random Forest Model for a Random Image"
   ]
  },
  {
   "cell_type": "code",
   "execution_count": 33,
   "metadata": {
    "graffitiCellId": "id_jmljd1m"
   },
   "outputs": [
    {
     "data": {
      "image/png": "[encoded data removed]",
      "text/plain": [
       "<Figure size 432x288 with 1 Axes>"
      ]
     },
     "metadata": {},
     "output_type": "display_data"
    }
   ],
   "source": [
    "#Check results on a few random images\n",
    "import random\n",
    "n=random.randint(0, x_test.shape[0]-1) #Select the index of image to be loaded for testing\n",
    "img = x_test[n]\n",
    "plt.imshow(img)\n",
    "#plt.title('Extraction Column in dimensions of 64x64')\n",
    "plt.show()"
   ]
  },
  {
   "cell_type": "code",
   "execution_count": 15,
   "metadata": {
    "graffitiCellId": "id_0cd5hod"
   },
   "outputs": [
    {
     "name": "stdout",
     "output_type": "stream",
     "text": [
      "The prediction for this image is:  ['Regular_State']\n",
      "The actual label for this image is:  Regular_State\n"
     ]
    },
    {
     "name": "stderr",
     "output_type": "stream",
     "text": [
      "C:\\Anaconda\\lib\\site-packages\\sklearn\\utils\\validation.py:73: DataConversionWarning: A column-vector y was passed when a 1d array was expected. Please change the shape of y to (n_samples, ), for example using ravel().\n",
      "  return f(**kwargs)\n"
     ]
    }
   ],
   "source": [
    "#Extract features and reshape to right dimensions\n",
    "input_img = np.expand_dims(img, axis=0) #Expand dims so the input is (num images, x, y, c)\n",
    "input_img_features=feature_extractor(input_img)\n",
    "input_img_features = np.expand_dims(input_img_features, axis=0)\n",
    "input_img_for_RF = np.reshape(input_img_features, (input_img.shape[0], -1))\n",
    "#Predict\n",
    "img_prediction = RF_model.predict(input_img_for_RF)\n",
    "img_prediction = le.inverse_transform([img_prediction])  #Reverse the label encoder to original name\n",
    "print(\"The prediction for this image is: \", img_prediction)\n",
    "print(\"The actual label for this image is: \", test_labels[n])"
   ]
  },
  {
   "cell_type": "code",
   "execution_count": null,
   "metadata": {
    "graffitiCellId": "id_3h5lgg1"
   },
   "outputs": [],
   "source": []
  }
 ],
 "metadata": {
  "graffiti": {
   "firstAuthorId": "dev",
   "id": "id_x4pkgxd",
   "language": "EN"
  },
  "kernelspec": {
   "display_name": "Python 3",
   "language": "python",
   "name": "python3"
  },
  "language_info": {
   "codemirror_mode": {
    "name": "ipython",
    "version": 3
   },
   "file_extension": ".py",
   "mimetype": "text/x-python",
   "name": "python",
   "nbconvert_exporter": "python",
   "pygments_lexer": "ipython3",
   "version": "3.8.3"
  }
 },
 "nbformat": 4,
 "nbformat_minor": 4
}
